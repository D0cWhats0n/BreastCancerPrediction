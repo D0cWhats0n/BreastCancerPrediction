{
 "metadata": {
  "name": "",
  "signature": "sha256:77243dd24db1a3cfa721ca39c0f5df5c929b405608ae0d3dbd709eb11c9427da"
 },
 "nbformat": 3,
 "nbformat_minor": 0,
 "worksheets": [
  {
   "cells": [
    {
     "cell_type": "heading",
     "level": 1,
     "metadata": {},
     "source": [
      "Breast Cancer Wisconsin (Diagnostic) Data Set (from kaggle.com)"
     ]
    },
    {
     "cell_type": "markdown",
     "metadata": {},
     "source": [
      "A small project analyzing the Breast Cancer Wisconsin (Diagnostic) Data Set (for further details see https://www.kaggle.com/uciml/breast-cancer-wisconsin-data). The data set provides measurements of breast cancer cells to determine whether cancer cells are malignant or benign. \n",
      "The measured attributes are\n",
      "<ol>\n",
      "  <p>a) radius (mean of distances from center to points on the perimeter)</p>\n",
      "  <p>b) texture (standard deviation of gray-scale values) </p>\n",
      "  <p>c) perimeter </p>\n",
      "  <p>d) area </p>\n",
      "  <p>e) smoothness (local variation in radius lengths)</p>\n",
      "  <p>f) compactness (perimeter^2 / area - 1.0)</p>\n",
      "  <p>g) concavity (severity of concave portions of the contour)</p>\n",
      "  <p>h) concave points (number of concave portions of the contour)</p>\n",
      "  <p>i) symmetry</p>\n",
      "  <p>j) fractal dimension (\"coastline approximation\" - 1)</p>\n",
      "</ol>\n",
      "\n",
      "For each attribute the mean value, standard deviation and worst (mean value of three biggest values) values were measured.\n",
      "In order to start analyzing load necessary packages:"
     ]
    },
    {
     "cell_type": "code",
     "collapsed": false,
     "input": [
      "import pandas as pd\n",
      "import matplotlib.pyplot as plt\n",
      "from sklearn import tree\n",
      "from sklearn import cross_validation\n",
      "from sklearn.ensemble import RandomForestClassifier\n",
      "import os\n",
      "import ModelLearningCurve as mlc"
     ],
     "language": "python",
     "metadata": {},
     "outputs": [],
     "prompt_number": 1
    },
    {
     "cell_type": "markdown",
     "metadata": {},
     "source": [
      "Load the data"
     ]
    },
    {
     "cell_type": "code",
     "collapsed": false,
     "input": [
      "cancer_table = pd.read_csv(\"data.csv\" )"
     ],
     "language": "python",
     "metadata": {},
     "outputs": [],
     "prompt_number": 3
    },
    {
     "cell_type": "code",
     "collapsed": false,
     "input": [],
     "language": "python",
     "metadata": {},
     "outputs": []
    }
   ],
   "metadata": {}
  }
 ]
}