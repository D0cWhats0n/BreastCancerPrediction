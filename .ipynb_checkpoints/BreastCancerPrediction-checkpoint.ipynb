{
 "metadata": {
  "name": "",
  "signature": "sha256:d9e8645f2ca25844bebc9dc958742a3c2a2e60d355ea4a5bcfbd772e64731340"
 },
 "nbformat": 3,
 "nbformat_minor": 0,
 "worksheets": [
  {
   "cells": [
    {
     "cell_type": "heading",
     "level": 1,
     "metadata": {},
     "source": [
      "Breast Cancer Wisconsin (Diagnostic) Data Set (from kaggle.com)"
     ]
    },
    {
     "cell_type": "markdown",
     "metadata": {},
     "source": [
      "A small project analyzing the Breast Cancer Wisconsin (Diagnostic) Data Set. The data set provides measurements of breast cancer cells to determine whether cancer cells are malignant or benign. \n",
      "The measured attributes are\n",
      "<ol>\n",
      "  <p>a) radius (mean of distances from center to points on the perimeter)</p>\n",
      "  <p>b) texture (standard deviation of gray-scale values) </p>\n",
      "  <p>c) perimeter </p>\n",
      "  <p>d) area </p>\n",
      "  <p>e) smoothness (local variation in radius lengths)</p>\n",
      "  <p>f) compactness (perimeter^2 / area - 1.0)</p>\n",
      "  <p>g) concavity (severity of concave portions of the contour)</p>\n",
      "  <p>h) concave points (number of concave portions of the contour)</p>\n",
      "  <p>i) symmetry</p>\n",
      "  <p>j) fractal dimension (\"coastline approximation\" - 1)</p>\n",
      "</ol>\n",
      "\n",
      "For each attribute the mean value, standard deviation and worst (mean value of three biggest values) values were measured.\n",
      "In order to start analyzing load necessary packages:"
     ]
    },
    {
     "cell_type": "code",
     "collapsed": false,
     "input": [
      "import pandas as pd\n",
      "import matplotlib.pyplot as plt\n",
      "from sklearn import tree\n",
      "from sklearn import cross_validation\n",
      "from sklearn.ensemble import RandomForestClassifier\n",
      "\n",
      "#make pretty plots in notebook\n",
      "%matplotlib inline\n",
      "\n",
      "#import file for visualization\n",
      "import ModelLearningCurve as mlc"
     ],
     "language": "python",
     "metadata": {},
     "outputs": [],
     "prompt_number": 1
    },
    {
     "cell_type": "markdown",
     "metadata": {},
     "source": [
      "Load the data"
     ]
    },
    {
     "cell_type": "code",
     "collapsed": false,
     "input": [
      "cancer_table = pd.read_csv(\"data.csv\" )"
     ],
     "language": "python",
     "metadata": {},
     "outputs": [],
     "prompt_number": 2
    },
    {
     "cell_type": "markdown",
     "metadata": {},
     "source": [
      "Getting to know the data"
     ]
    },
    {
     "cell_type": "code",
     "collapsed": false,
     "input": [
      "cancer_table.count()"
     ],
     "language": "python",
     "metadata": {},
     "outputs": [
      {
       "metadata": {},
       "output_type": "pyout",
       "prompt_number": 3,
       "text": [
        "id                         569\n",
        "diagnosis                  569\n",
        "radius_mean                569\n",
        "texture_mean               569\n",
        "perimeter_mean             569\n",
        "area_mean                  569\n",
        "smoothness_mean            569\n",
        "compactness_mean           569\n",
        "concavity_mean             569\n",
        "concave points_mean        569\n",
        "symmetry_mean              569\n",
        "fractal_dimension_mean     569\n",
        "radius_se                  569\n",
        "texture_se                 569\n",
        "perimeter_se               569\n",
        "area_se                    569\n",
        "smoothness_se              569\n",
        "compactness_se             569\n",
        "concavity_se               569\n",
        "concave points_se          569\n",
        "symmetry_se                569\n",
        "fractal_dimension_se       569\n",
        "radius_worst               569\n",
        "texture_worst              569\n",
        "perimeter_worst            569\n",
        "area_worst                 569\n",
        "smoothness_worst           569\n",
        "compactness_worst          569\n",
        "concavity_worst            569\n",
        "concave points_worst       569\n",
        "symmetry_worst             569\n",
        "fractal_dimension_worst    569\n",
        "Unnamed: 32                  0\n",
        "dtype: int64"
       ]
      }
     ],
     "prompt_number": 3
    },
    {
     "cell_type": "code",
     "collapsed": false,
     "input": [
      "cancer_table.head(3)"
     ],
     "language": "python",
     "metadata": {},
     "outputs": [
      {
       "html": [
        "<div style=\"max-width:1500px;overflow:auto;\">\n",
        "<table border=\"1\" class=\"dataframe\">\n",
        "  <thead>\n",
        "    <tr style=\"text-align: right;\">\n",
        "      <th></th>\n",
        "      <th>id</th>\n",
        "      <th>diagnosis</th>\n",
        "      <th>radius_mean</th>\n",
        "      <th>texture_mean</th>\n",
        "      <th>perimeter_mean</th>\n",
        "      <th>area_mean</th>\n",
        "      <th>smoothness_mean</th>\n",
        "      <th>compactness_mean</th>\n",
        "      <th>concavity_mean</th>\n",
        "      <th>concave points_mean</th>\n",
        "      <th>...</th>\n",
        "      <th>texture_worst</th>\n",
        "      <th>perimeter_worst</th>\n",
        "      <th>area_worst</th>\n",
        "      <th>smoothness_worst</th>\n",
        "      <th>compactness_worst</th>\n",
        "      <th>concavity_worst</th>\n",
        "      <th>concave points_worst</th>\n",
        "      <th>symmetry_worst</th>\n",
        "      <th>fractal_dimension_worst</th>\n",
        "      <th>Unnamed: 32</th>\n",
        "    </tr>\n",
        "  </thead>\n",
        "  <tbody>\n",
        "    <tr>\n",
        "      <th>0</th>\n",
        "      <td>842302</td>\n",
        "      <td>M</td>\n",
        "      <td>17.99</td>\n",
        "      <td>10.38</td>\n",
        "      <td>122.8</td>\n",
        "      <td>1001.0</td>\n",
        "      <td>0.11840</td>\n",
        "      <td>0.27760</td>\n",
        "      <td>0.3001</td>\n",
        "      <td>0.14710</td>\n",
        "      <td>...</td>\n",
        "      <td>17.33</td>\n",
        "      <td>184.6</td>\n",
        "      <td>2019.0</td>\n",
        "      <td>0.1622</td>\n",
        "      <td>0.6656</td>\n",
        "      <td>0.7119</td>\n",
        "      <td>0.2654</td>\n",
        "      <td>0.4601</td>\n",
        "      <td>0.11890</td>\n",
        "      <td>NaN</td>\n",
        "    </tr>\n",
        "    <tr>\n",
        "      <th>1</th>\n",
        "      <td>842517</td>\n",
        "      <td>M</td>\n",
        "      <td>20.57</td>\n",
        "      <td>17.77</td>\n",
        "      <td>132.9</td>\n",
        "      <td>1326.0</td>\n",
        "      <td>0.08474</td>\n",
        "      <td>0.07864</td>\n",
        "      <td>0.0869</td>\n",
        "      <td>0.07017</td>\n",
        "      <td>...</td>\n",
        "      <td>23.41</td>\n",
        "      <td>158.8</td>\n",
        "      <td>1956.0</td>\n",
        "      <td>0.1238</td>\n",
        "      <td>0.1866</td>\n",
        "      <td>0.2416</td>\n",
        "      <td>0.1860</td>\n",
        "      <td>0.2750</td>\n",
        "      <td>0.08902</td>\n",
        "      <td>NaN</td>\n",
        "    </tr>\n",
        "    <tr>\n",
        "      <th>2</th>\n",
        "      <td>84300903</td>\n",
        "      <td>M</td>\n",
        "      <td>19.69</td>\n",
        "      <td>21.25</td>\n",
        "      <td>130.0</td>\n",
        "      <td>1203.0</td>\n",
        "      <td>0.10960</td>\n",
        "      <td>0.15990</td>\n",
        "      <td>0.1974</td>\n",
        "      <td>0.12790</td>\n",
        "      <td>...</td>\n",
        "      <td>25.53</td>\n",
        "      <td>152.5</td>\n",
        "      <td>1709.0</td>\n",
        "      <td>0.1444</td>\n",
        "      <td>0.4245</td>\n",
        "      <td>0.4504</td>\n",
        "      <td>0.2430</td>\n",
        "      <td>0.3613</td>\n",
        "      <td>0.08758</td>\n",
        "      <td>NaN</td>\n",
        "    </tr>\n",
        "  </tbody>\n",
        "</table>\n",
        "<p>3 rows \u00d7 33 columns</p>\n",
        "</div>"
       ],
       "metadata": {},
       "output_type": "pyout",
       "prompt_number": 4,
       "text": [
        "         id diagnosis  radius_mean  texture_mean  perimeter_mean  area_mean  \\\n",
        "0    842302         M        17.99         10.38           122.8     1001.0   \n",
        "1    842517         M        20.57         17.77           132.9     1326.0   \n",
        "2  84300903         M        19.69         21.25           130.0     1203.0   \n",
        "\n",
        "   smoothness_mean  compactness_mean  concavity_mean  concave points_mean  \\\n",
        "0          0.11840           0.27760          0.3001              0.14710   \n",
        "1          0.08474           0.07864          0.0869              0.07017   \n",
        "2          0.10960           0.15990          0.1974              0.12790   \n",
        "\n",
        "      ...       texture_worst  perimeter_worst  area_worst  smoothness_worst  \\\n",
        "0     ...               17.33            184.6      2019.0            0.1622   \n",
        "1     ...               23.41            158.8      1956.0            0.1238   \n",
        "2     ...               25.53            152.5      1709.0            0.1444   \n",
        "\n",
        "   compactness_worst  concavity_worst  concave points_worst  symmetry_worst  \\\n",
        "0             0.6656           0.7119                0.2654          0.4601   \n",
        "1             0.1866           0.2416                0.1860          0.2750   \n",
        "2             0.4245           0.4504                0.2430          0.3613   \n",
        "\n",
        "   fractal_dimension_worst  Unnamed: 32  \n",
        "0                  0.11890          NaN  \n",
        "1                  0.08902          NaN  \n",
        "2                  0.08758          NaN  \n",
        "\n",
        "[3 rows x 33 columns]"
       ]
      }
     ],
     "prompt_number": 4
    },
    {
     "cell_type": "heading",
     "level": 2,
     "metadata": {},
     "source": [
      "Data cleaning"
     ]
    },
    {
     "cell_type": "markdown",
     "metadata": {},
     "source": [
      "Cleaning data of unwanted unnamed column, id and possible NaN values (which weren't present in the data set)"
     ]
    },
    {
     "cell_type": "code",
     "collapsed": false,
     "input": [
      "cancer_table.drop('Unnamed: 32', axis=1, inplace=True)\n",
      "cancer_table.drop('id', axis=1, inplace=True)\n",
      "cancer_table.dropna(inplace=True)"
     ],
     "language": "python",
     "metadata": {},
     "outputs": [],
     "prompt_number": 5
    },
    {
     "cell_type": "markdown",
     "metadata": {},
     "source": [
      "Check whether the categories 'M'(=malignant) and 'B'(=benign) are biased"
     ]
    },
    {
     "cell_type": "code",
     "collapsed": false,
     "input": [
      "malignant_count =  len(cancer_table[cancer_table['diagnosis']=='M'].index)\n",
      "benign_count =  len(cancer_table[cancer_table['diagnosis']=='B'].index)\n",
      "malignant_perc = malignant_count/float((malignant_count + benign_count))*100\n",
      "print(\"Percentage of malignant cells:  %0.2f%%\" % malignant_perc) "
     ],
     "language": "python",
     "metadata": {},
     "outputs": [
      {
       "output_type": "stream",
       "stream": "stdout",
       "text": [
        "Percentage of malignant cells:  37.26%\n"
       ]
      }
     ],
     "prompt_number": 12
    },
    {
     "cell_type": "markdown",
     "metadata": {},
     "source": [
      "The small discovered mismatch in favor of benign cancer cells should not cause a problem for further investigation."
     ]
    },
    {
     "cell_type": "heading",
     "level": 2,
     "metadata": {},
     "source": [
      "Feature Selection"
     ]
    },
    {
     "cell_type": "markdown",
     "metadata": {},
     "source": [
      "Because there is a large feature set compared with the number of data points some feature selection might be appropriate. For example the perimeter as well as the area are, in theory, derived values from the radius. Therefore they should be highly correlated, without adding further information to a chosen classifier. In order to investigate that I am creating a scatterplot of the radius over the two derived variables, where magenta points denote malignant cancer cells and blue points are benign cancer cells. "
     ]
    },
    {
     "cell_type": "code",
     "collapsed": false,
     "input": [
      "f, (ax1, ax2) = plt.subplots(1, 2)\n",
      "f.set_figheight(5)\n",
      "f.set_figwidth(10)\n",
      "ax1.scatter(cancer_table['radius_mean'],cancer_table['perimeter_mean'],marker='o', c=cancer_table['diagnosis'])\n",
      "ax1.set_title(\"radius_men vs. perimeter_mean\")\n",
      "ax2.scatter(cancer_table['radius_mean'],cancer_table['area_mean'],marker='o', c=cancer_table['diagnosis'])\n",
      "ax2.set_title(\"radius_mean vs. area_mean\")\n",
      "plt.show()"
     ],
     "language": "python",
     "metadata": {},
     "outputs": [
      {
       "metadata": {},
       "output_type": "display_data",
       "png": "[encoded data removed]",
       "text": [
        "<matplotlib.figure.Figure at 0xee314f0>"
       ]
      }
     ],
     "prompt_number": 19
    },
    {
     "cell_type": "markdown",
     "metadata": {},
     "source": [
      "As expected the relation between the radius and the perimeter is nearly perfectly linear whereas the relation between the radius and the area has a quadratic form (funnily for bigger cells the relation seems to become linear) and both variables are highly correlated with the radius. Therefore there is not much information gain when adding these two features in addition to the radius and I will drop these from the data frame. To simplify the model further I will concentrate on the mean values in a first approach and drop the standard deviation and worst values (although especially the worst values might add some value to the classifier I want to start with a simpler model). \n",
      "\n",
      "A more sophisticated approach would be to perform a PCA in order to gain an orthogonal, uncorrelated feature set with the dowside of losing the intuitive sense for the used features."
     ]
    },
    {
     "cell_type": "code",
     "collapsed": false,
     "input": [
      "cancer_table.drop(cancer_table.columns.values[11:31], axis=1, inplace=True)\n",
      "cancer_table.drop('area_mean', axis=1, inplace=True)\n",
      "cancer_table.drop('perimeter_mean', axis=1, inplace=True)"
     ],
     "language": "python",
     "metadata": {},
     "outputs": [],
     "prompt_number": 20
    },
    {
     "cell_type": "heading",
     "level": 2,
     "metadata": {},
     "source": [
      "First conclusion"
     ]
    },
    {
     "cell_type": "markdown",
     "metadata": {},
     "source": [
      "Note that the plots also already reveal an interesting fact: the bigger the cells, the more likely it seems, that the cancer is malignant."
     ]
    },
    {
     "cell_type": "heading",
     "level": 2,
     "metadata": {},
     "source": [
      "Classification Using a Decision Tree"
     ]
    },
    {
     "cell_type": "markdown",
     "metadata": {},
     "source": [
      "In this section I use a simple decision tree to describe the data, plot the learning curve in order to see whether the provided number of data points is able to sample the given feature space and then I procced by enhancing the model in the [next section](#Classification-Using-a-Random-Forest). \n",
      "First of all the data is split in features and the target"
     ]
    },
    {
     "cell_type": "code",
     "collapsed": false,
     "input": [
      "features = cancer_table.drop('diagnosis', axis=1)\n",
      "target = cancer_table['diagnosis']"
     ],
     "language": "python",
     "metadata": {},
     "outputs": [],
     "prompt_number": 21
    },
    {
     "cell_type": "markdown",
     "metadata": {},
     "source": [
      "As a next step the learning curve for a decision tree is plotted, i.e. the data is split into different sizes of samples, and for each sample a cross-validation is performed. The resulting training and testing score (mean value of the performed cross validation score) is then plotted over the size of the sample. A converging testing score indicates a good sampling of the feature space and adding more data to the set does not change the outcome of the predictor much. In order to avoid overly complex trees the max_depth was limited to 10."
     ]
    },
    {
     "cell_type": "code",
     "collapsed": false,
     "input": [
      "clf_tree = tree.DecisionTreeClassifier(random_state=1, max_depth=10)\n",
      "mlc.ModelLearningCurveClassification(clf_tree, features, target)"
     ],
     "language": "python",
     "metadata": {},
     "outputs": [
      {
       "metadata": {},
       "output_type": "display_data",
       "png": "[encoded data removed]",
       "text": [
        "<matplotlib.figure.Figure at 0xf1c6710>"
       ]
      }
     ],
     "prompt_number": 44
    },
    {
     "cell_type": "markdown",
     "metadata": {},
     "source": [
      "The greenish area shows the standard deviation for the cross vaildated scores. As can be seen in the figure the classifier's testing score (accuracy in this case) converges nicely at about 90% and doesn't change too much between 200-500 data points.The cross validated score for the whole set of training samples cand be found below"
     ]
    },
    {
     "cell_type": "code",
     "collapsed": false,
     "input": [
      "crossValScore=cross_validation.cross_val_score(clf_tree, features, target, cv=5)\n",
      "print(\"Test accuracy decision tree: %0.2f (+/- %0.2f)\" % (crossValScore.mean(), crossValScore.std() * 2))"
     ],
     "language": "python",
     "metadata": {},
     "outputs": [
      {
       "output_type": "stream",
       "stream": "stdout",
       "text": [
        "Test accuracy decision tree: 0.91 (+/- 0.04)\n"
       ]
      }
     ],
     "prompt_number": 45
    },
    {
     "cell_type": "markdown",
     "metadata": {},
     "source": [
      "The mean value of the cross validated test accuracy is already pretty high with 91% considering the rather simple model. The 2$\\sigma$  interval is 4%."
     ]
    },
    {
     "cell_type": "heading",
     "level": 2,
     "metadata": {},
     "source": [
      "Classification Using a Random Forest "
     ]
    },
    {
     "cell_type": "markdown",
     "metadata": {},
     "source": [
      "The same learning curve as above was evaluated using a random tree forest."
     ]
    },
    {
     "cell_type": "code",
     "collapsed": false,
     "input": [
      "clf_forest = RandomForestClassifier(random_state=1)\n",
      "mlc.ModelLearningCurveClassification(clf_forest, features, target)"
     ],
     "language": "python",
     "metadata": {},
     "outputs": [
      {
       "metadata": {},
       "output_type": "display_data",
       "png": "[encoded data removed]",
       "text": [
        "<matplotlib.figure.Figure at 0xf13d830>"
       ]
      }
     ],
     "prompt_number": 52
    },
    {
     "cell_type": "code",
     "collapsed": false,
     "input": [
      "crossValScore=cross_validation.cross_val_score(clf_forest, features, target, cv=5)\n",
      "print(\"Accuracy random forest: %0.2f (+/- %0.2f)\" % (crossValScore.mean(), crossValScore.std() * 2))"
     ],
     "language": "python",
     "metadata": {},
     "outputs": [
      {
       "output_type": "stream",
       "stream": "stdout",
       "text": [
        "Accuracy random forest: 0.94 (+/- 0.05)\n"
       ]
      }
     ],
     "prompt_number": 53
    },
    {
     "cell_type": "markdown",
     "metadata": {},
     "source": [
      "The accuracy can be raised to 94% using a random forest, while the 2$\\sigma$ interval slightly raises to +/-5%.\n",
      "\n",
      "A nice property of random forests is that the importance of each feature can be evaluated. Below the whole data set is used to train the forest and the feature importance is plotted"
     ]
    },
    {
     "cell_type": "code",
     "collapsed": false,
     "input": [
      "clf_forest.fit(features,target)\n",
      "#Advantage in random forests: one gets feature importance for free\n",
      "featimp = pd.Series(clf_forest.feature_importances_, index=features.columns.values).sort_values(ascending=False)\n",
      "featimp"
     ],
     "language": "python",
     "metadata": {},
     "outputs": [
      {
       "metadata": {},
       "output_type": "pyout",
       "prompt_number": 55,
       "text": [
        "concave points_mean       0.356207\n",
        "concavity_mean            0.223409\n",
        "radius_mean               0.164507\n",
        "compactness_mean          0.099088\n",
        "texture_mean              0.063174\n",
        "fractal_dimension_mean    0.038300\n",
        "smoothness_mean           0.032628\n",
        "symmetry_mean             0.022687\n",
        "dtype: float64"
       ]
      }
     ],
     "prompt_number": 55
    },
    {
     "cell_type": "heading",
     "level": 2,
     "metadata": {},
     "source": [
      "Where to go from here"
     ]
    },
    {
     "cell_type": "markdown",
     "metadata": {},
     "source": [
      "To further improve the prediction the features could be further selected using only the top five features found from the random forest classifier and additionaly taking worst values and standard devaiations into account. On top of that the classifier itself might be improved by performing a grid-search on the parameter space of the random forest (for example max_depth and n_estimators) to optimize the model."
     ]
    }
   ],
   "metadata": {}
  }
 ]
}